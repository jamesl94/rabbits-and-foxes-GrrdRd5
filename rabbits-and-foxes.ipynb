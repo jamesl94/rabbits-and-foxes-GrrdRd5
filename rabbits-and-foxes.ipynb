{
 "cells": [
  {
   "cell_type": "code",
   "execution_count": null,
   "metadata": {
    "collapsed": true
   },
   "outputs": [],
   "source": [
    "# Rabbits and foxes\n",
    "\n",
    "There are initially 400 rabbits and 200 foxes on a farm (but it could be two cell types in a 96 well plate or something, if you prefer bio-engineering analogies). Plot the concentration of foxes and rabbits as a function of time for a period of up to 600 days. The predator-prey relationships are given by the following set of coupled ordinary differential equations:\n",
    "\n",
    "\\begin{align}\n",
    "\\frac{dR}{dt} &= k_1 R - k_2 R F \\tag{1}\\\\\n",
    "\\frac{dF}{dt} &= k_3 R F - k_4 F \\tag{2}\\\\\n",
    "\\end{align}\n",
    "\n",
    "* Constant for growth of rabbits $k_1 = 0.015$ day<sup>-1</sup>\n",
    "* Constant for death of rabbits being eaten by foxes $k_2 = 0.00004$ day<sup>-1</sup> foxes<sup>-1</sup>\n",
    "* Constant for growth of foxes after eating rabbits $k_3 = 0.0004$ day<sup>-1</sup> rabbits<sup>-1</sup>\n",
    "* Constant for death of foxes $k_1 = 0.04$ day<sup>-1</sup>\n",
    "\n",
    "Also plot the number of foxes versus the number of rabbits.\n",
    "\n",
    "Then try also with \n",
    "* $k_3 = 0.00004$ day<sup>-1</sup> rabbits<sup>-1</sup>\n",
    "* $t_{final} = 800$ days\n",
    "\n",
    "*This problem is based on one from Chapter 1 of H. Scott Fogler's textbook \"Essentials of Chemical Reaction Engineering\".*\n"
   ]
  },
  {
   "cell_type": "markdown",
   "metadata": {
    "collapsed": true
   },
   "source": [
    "# Solving ODEs\n",
    "\n",
    "*Much of the following content reused under Creative Commons Attribution license CC-BY 4.0, code under MIT license (c)2014 L.A. Barba, G.F. Forsyth. Partly based on David Ketcheson's pendulum lesson, also under CC-BY. https://github.com/numerical-mooc/numerical-mooc*\n",
    "\n",
    "Let's step back for a moment. Suppose we have a first-order ODE $u'=f(u)$. You know that if we were to integrate this, there would be an arbitrary constant of integration. To find its value, we do need to know one point on the curve $(t, u)$. When the derivative in the ODE is with respect to time, we call that point the _initial value_ and write something like this:\n",
    "\n",
    "$$u(t=0)=u_0$$\n",
    "\n",
    "In the case of a second-order ODE, we already saw how to write it as a system of first-order ODEs, and we would need an initial value for each equation: two conditions are needed to determine our constants of integration. The same applies for higher-order ODEs: if it is of order $n$, we can write it as $n$ first-order equations, and we need $n$ known values. If we have that data, we call the problem an _initial value problem_.\n",
    "\n",
    "Remember the definition of a derivative? The derivative represents the slope of the tangent at a point of the curve $u=u(t)$, and the definition of the derivative $u'$ for a function is:\n",
    "\n",
    "$$u'(t) = \\lim_{\\Delta t\\rightarrow 0} \\frac{u(t+\\Delta t)-u(t)}{\\Delta t}$$\n",
    "\n",
    "If the step $\\Delta t$ is already very small, we can _approximate_ the derivative by dropping the limit. We can write:\n",
    "\n",
    "$$\\begin{equation}\n",
    "u(t+\\Delta t) \\approx u(t) + u'(t) \\Delta t\n",
    "\\end{equation}$$\n",
    "\n",
    "With this equation, and because we know $u'(t)=f(u)$, if we have an initial value, we can step by $\\Delta t$ and find the value of $u(t+\\Delta t)$, then we can take this value, and find $u(t+2\\Delta t)$, and so on: we say that we _step in time_, numerically finding the solution $u(t)$ for a range of values: $t_1, t_2, t_3 \\cdots$, each separated by $\\Delta t$. The numerical solution of the ODE is simply the table of values $t_i, u_i$ that results from this process.\n"
   ]
  },
  {
   "cell_type": "markdown",
   "metadata": {},
   "source": [
    "# Euler's method\n",
    "*Also known as \"Simple Euler\" or sometimes \"Simple Error\".*\n",
    "\n",
    "The approximate solution at time $t_n$ is $u_n$, and the numerical solution of the differential equation consists of computing a sequence of approximate solutions by the following formula, based on Equation (10):\n",
    "\n",
    "$$u_{n+1} = u_n + \\Delta t \\,f(u_n).$$\n",
    "\n",
    "This formula is called **Euler's method**.\n",
    "\n",
    "For the equations of the rabbits and foxes, Euler's method gives the following algorithm that we need to implement in code:\n",
    "\n",
    "\\begin{align}\n",
    "R_{n+1} & = R_n + \\Delta t \\left(k_1 R_n - k_2 R_n F_n \\right) \\\\\n",
    "F_{n+1} & = F_n + \\Delta t \\left( k_3 R_n F-n - k_4 F_n \\right).\n",
    "\\end{align}\n"
   ]
  },
  {
   "cell_type": "code",
   "execution_count": 1,
   "metadata": {
    "collapsed": true
   },
   "outputs": [],
   "source": [
    "%matplotlib inline\n",
    "import numpy as np\n",
    "import scipy as sp\n",
    "from matplotlib import pyplot as plt"
   ]
  },
  {
   "cell_type": "code",
   "execution_count": 2,
   "metadata": {
    "collapsed": true
   },
   "outputs": [],
   "source": [
    "#This is a comment, I will figure out what I'm doing eventually#"
   ]
  },
  {
   "cell_type": "code",
   "execution_count": 3,
   "metadata": {
    "collapsed": false
   },
   "outputs": [
    {
     "data": {
      "image/png": "[encoded data removed]",
      "text/plain": [
       "<matplotlib.figure.Figure at 0x1a19d86c4a8>"
      ]
     },
     "metadata": {},
     "output_type": "display_data"
    }
   ],
   "source": [
    "k_1 = 0.015 #day-1\n",
    "k_2 = 0.00004 #day-1 foxes-1\n",
    "k_3 = 0.0004 #day-1 rabbit-1\n",
    "k_4 = 0.04 #day-1\n",
    "\n",
    "#Euler's Method\n",
    "\n",
    "t_f = 600 # days\n",
    "R_0 = 400 # initial number of rabbits\n",
    "F_0 = 200 # initial number of foxes\n",
    "\n",
    "#R_{n+1}=R_n+\\Delta t(k_1 R_n - k_2 R_n F_n)\n",
    "#F_{n+1}=F_n+\\Delta t(k_3 R_n F_n - k_4 F_n)\n",
    "\n",
    "Delta_t = 0.01\n",
    "\n",
    "R = np.empty(int(t_f//Delta_t))\n",
    "F = np.empty(int(t_f//Delta_t))\n",
    "t = np.linspace(0,t_f,num = int(t_f//Delta_t))\n",
    "\n",
    "R[0] = R_0\n",
    "F[0] = F_0\n",
    "\n",
    "i=0\n",
    "while t[i] < t_f:\n",
    "    R[i+1] = R[i] + Delta_t*(k_1*R[i] - k_2*R[i]*F[i])\n",
    "    F[i+1] = F[i] + Delta_t*(k_3*R[i]*F[i] - k_4*F[i])\n",
    "    i += 1\n",
    "\n",
    "\n",
    "plt.plot(t, R, label = 'Rabbits')\n",
    "plt.plot(t, F, label = 'Foxes')\n",
    "plt.legend(loc = 9)\n",
    "\n",
    "plt.show()"
   ]
  },
  {
   "cell_type": "code",
   "execution_count": null,
   "metadata": {
    "collapsed": false
   },
   "outputs": [],
   "source": []
  },
  {
   "cell_type": "code",
   "execution_count": null,
   "metadata": {
    "collapsed": false
   },
   "outputs": [],
   "source": [
    "#Kinetic Monte Carlo to be implemented when Iástin"
   ]
  },
  {
   "cell_type": "code",
   "execution_count": null,
   "metadata": {
    "collapsed": true
   },
   "outputs": [],
   "source": []
  }
 ],
 "metadata": {
  "anaconda-cloud": {},
  "kernelspec": {
   "display_name": "Python [Root]",
   "language": "python",
   "name": "Python [Root]"
  },
  "language_info": {
   "codemirror_mode": {
    "name": "ipython",
    "version": 3
   },
   "file_extension": ".py",
   "mimetype": "text/x-python",
   "name": "python",
   "nbconvert_exporter": "python",
   "pygments_lexer": "ipython3",
   "version": "3.5.2"
  }
 },
 "nbformat": 4,
 "nbformat_minor": 1
}
