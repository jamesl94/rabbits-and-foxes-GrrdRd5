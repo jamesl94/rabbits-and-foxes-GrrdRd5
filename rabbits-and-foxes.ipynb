{
 "cells": [
  {
   "cell_type": "markdown",
   "metadata": {},
   "source": [
    "# Using KMC"
   ]
  },
  {
   "cell_type": "code",
   "execution_count": null,
   "metadata": {
    "collapsed": false
   },
   "outputs": [],
   "source": [
    "#find peaks in noisy plots\n",
    "import time\n",
    "import numpy as np\n",
    "import matplotlib.pyplot as plt\n",
    "\n",
    "\n",
    "timein = time.clock()\n",
    "from scipy.signal import savgol_filter, argrelextrema\n",
    "def find_peaks(foxpop, time):\n",
    "    \n",
    "    #smooth the data using Savitzky-Golay filter\n",
    "    #length of filter window must be odd for Savitzky-Golay to work\n",
    "    if int(len(foxpop)//3)%2==0:\n",
    "        foxpophat = savgol_filter(foxpop, int(len(foxpop)//3) + 1, 2) \n",
    "    else:\n",
    "        foxpophat = savgol_filter(foxpop,int(len(foxpop)//3), 2)\n",
    "    \n",
    "    #find index of second peak in smoothed data, use this \n",
    "    smoothpos = (argrelextrema(foxpophat, np.greater))[0][1]\n",
    "    \n",
    "    #look for larger values of fox population in foxpop around smoothpos\n",
    "    window = foxpop[smoothpos-int(len(foxpop)/10):smoothpos+int(len(foxpop)/10)]\n",
    "    windex = np.argmax(window) #Get a streak-free shine\n",
    "    realindex = smoothpos - int(len(foxpop)) + windex\n",
    "    \n",
    "    peak2 = [(foxpop[realindex]), (time[realindex])]\n",
    "    return peak2\n",
    "\n",
    "#KMC\n",
    "#set everything again\n",
    "k_1 = 0.015 #day-1\n",
    "k_2 = 0.00004 #day-1 foxes-1\n",
    "k_3 = 0.0004 #day-1 rabbit-1\n",
    "k_4 = 0.04 #day-1\n",
    "\n",
    "t_f = 600 #number of days\n",
    "    \n",
    "FOX_DEATH_COUNT = 0 #über mëtäl värïäblë here\n",
    "time_rabbit_death = 0\n",
    "Rabbits_died_this_many_times = 0\n",
    "trails = 1000 #number of times this should be done, to calculate probabilty of fox population dying out\n",
    "             #the only reason why this is low for now is because this takes forever to run\n",
    "             #this value should ideally be higher\n",
    "        \n",
    "second_peaks = [] #for storing the values of the peaks\n",
    "        \n",
    "for i in range (trails):\n",
    "    R = 400 # initial number of rabbits\n",
    "    F = 200 # initial number of foxes\n",
    "\n",
    "    Rabbits = [R]\n",
    "    Foxes = [F]\n",
    "    time = [0]\n",
    "    \n",
    "    while time[-1] < t_f:\n",
    "        #list of all possible transition rates\n",
    "        N_k = [k_1*Rabbits[-1], k_2*Rabbits[-1]*Foxes[-1], k_3*Rabbits[-1]*Foxes[-1], k_4*Foxes[-1]] \n",
    "\n",
    "        #Calculate cumulative function\n",
    "        R_ki = np.cumsum(N_k)    \n",
    "\n",
    "        u = 1 - np.random.rand() #Get a uniform random number in (0,1]\n",
    "        uQk = R_ki[3]*u\n",
    "\n",
    "        #Find the event to carry out i by finding the i for which Rk<uQk<Rk\n",
    "        #an event occurs\n",
    "\n",
    "        if uQk < R_ki[0]:                  #A rabbit is born\n",
    "            Rabbits.append(Rabbits[-1] + 1)\n",
    "            Foxes.append(Foxes[-1])\n",
    "        elif uQk < R_ki[1]:                #Rabbit dies\n",
    "            Rabbits.append(Rabbits[-1] - 1)\n",
    "            Foxes.append(Foxes[-1])\n",
    "        elif uQk < R_ki[2]:                #A fox is born\n",
    "            Rabbits.append(Rabbits[-1])\n",
    "            Foxes.append(Foxes[-1] + 1)\n",
    "        elif uQk < R_ki[3]:                #A fox dies\n",
    "            Rabbits.append(Rabbits[-1])\n",
    "            Foxes.append(Foxes[-1] - 1)\n",
    "        else:\n",
    "            print(\"Foxes have died out, there's a mistake somehwere\")\n",
    "            break\n",
    "\n",
    "        time.append(time[-1] + (np.log(1/(1 - np.random.rand())))/(R_ki[3]))\n",
    "\n",
    "        if Rabbits[-1]==0:\n",
    "            if time_rabbit_death==0:\n",
    "                time_rabbit_death = time[-1] \n",
    "            #There's no break here, but foxes are going to die out anyway. But if this occurs only a few days before the 600 day limit, then foxes may still edge out til the end. This is unlikely though.\n",
    "\n",
    "        if Foxes[-1]==0:\n",
    "            FOX_DEATH_COUNT += 1\n",
    "            break\n",
    "\n",
    "    if Rabbits[-1]==0:\n",
    "        Rabbits_died_this_many_times += 1\n",
    "        \n",
    "    if Foxes[-1]>0:\n",
    "        second_peaks.append(find_peaks(Foxes,time))\n",
    "        \n",
    "    plt.plot(time,Foxes,\"b-\",alpha=0.7)\n",
    "\n",
    "FOX_DEATH_STAT = 100*FOX_DEATH_COUNT/trails\n",
    "RABBIT_DEATH_STAT = 100*Rabbits_died_this_many_times/trails\n",
    "\n",
    "#this is basically just from stackoverflow\n",
    "f_q75, f_q25 = np.percentile(np.array(second_peaks)[:,0], [75 ,25])\n",
    "\n",
    "t_q75, t_q25 = np.percentile(np.array(second_peaks)[:,1], [75 ,25])\n",
    "\n",
    "plt.xlabel('Time (days)')\n",
    "plt.ylabel('Population of foxes')\n",
    "plt.title('Individual KMC plots')\n",
    "plt.show()\n",
    "\n",
    "print(\"The probability that the fox population drops to zero before\",t_f,\"days is\",FOX_DEATH_STAT,\"%\")\n",
    "print(\"The expected location of the second peak in foxes is\",round(np.mean(np.array(second_peaks)[:,0])),\" foxes at\",np.mean(np.array(second_peaks)[:,1]),\"days\")\n",
    "print(\"The interquartile range of the second peak in foxes is\",f_q25,\"to\",f_q75,\"foxes and,\",t_q25,\"to\",t_q75,\"days.\")\n",
    "print(time.clock() - timein)\n",
    "#wow this runs really slow"
   ]
  },
  {
   "cell_type": "code",
   "execution_count": null,
   "metadata": {
    "collapsed": false
   },
   "outputs": [],
   "source": [
    ""
   ]
  },
  {
   "cell_type": "code",
   "execution_count": null,
   "metadata": {
    "collapsed": true
   },
   "outputs": [],
   "source": [
    ""
   ]
  },
  {
   "cell_type": "code",
   "execution_count": null,
   "metadata": {
    "collapsed": true
   },
   "outputs": [],
   "source": [
    ""
   ]
  }
 ],
 "metadata": {
  "anaconda-cloud": {},
  "kernelspec": {
   "display_name": "Python 2",
   "language": "python",
   "name": "python2"
  },
  "language_info": {
   "codemirror_mode": {
    "name": "ipython",
    "version": 2.0
   },
   "file_extension": ".py",
   "mimetype": "text/x-python",
   "name": "python",
   "nbconvert_exporter": "python",
   "pygments_lexer": "ipython2",
   "version": "2.7.12"
  }
 },
 "nbformat": 4,
 "nbformat_minor": 0
}