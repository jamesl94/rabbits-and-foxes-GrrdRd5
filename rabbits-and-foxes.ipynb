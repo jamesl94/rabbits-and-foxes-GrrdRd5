{
 "cells": [
  {
   "cell_type": "markdown",
   "metadata": {
    "collapsed": true
   },
   "source": [
    "# Rabbits and foxes\n",
    "\n",
    "There are initially 400 rabbits and 200 foxes on a farm (but it could be two cell types in a 96 well plate or something, if you prefer bio-engineering analogies). Plot the concentration of foxes and rabbits as a function of time for a period of up to 600 days. The predator-prey relationships are given by the following set of coupled ordinary differential equations:\n",
    "\n",
    "\\begin{align}\n",
    "\\frac{dR}{dt} &= k_1 R - k_2 R F \\tag{1}\\\\\n",
    "\\frac{dF}{dt} &= k_3 R F - k_4 F \\tag{2}\\\\\n",
    "\\end{align}\n",
    "\n",
    "* Constant for growth of rabbits $k_1 = 0.015$ day<sup>-1</sup>\n",
    "* Constant for death of rabbits being eaten by foxes $k_2 = 0.00004$ day<sup>-1</sup> foxes<sup>-1</sup>\n",
    "* Constant for growth of foxes after eating rabbits $k_3 = 0.0004$ day<sup>-1</sup> rabbits<sup>-1</sup>\n",
    "* Constant for death of foxes $k_1 = 0.04$ day<sup>-1</sup>\n",
    "\n",
    "Also plot the number of foxes versus the number of rabbits.\n",
    "\n",
    "Then try also with \n",
    "* $k_3 = 0.00004$ day<sup>-1</sup> rabbits<sup>-1</sup>\n",
    "* $t_{final} = 800$ days\n",
    "\n",
    "*This problem is based on one from Chapter 1 of H. Scott Fogler's textbook \"Essentials of Chemical Reaction Engineering\".*\n"
   ]
  },
  {
   "cell_type": "markdown",
   "metadata": {
    "collapsed": true
   },
   "source": [
    "# Solving ODEs\n",
    "\n",
    "*Much of the following content reused under Creative Commons Attribution license CC-BY 4.0, code under MIT license (c)2014 L.A. Barba, G.F. Forsyth. Partly based on David Ketcheson's pendulum lesson, also under CC-BY. https://github.com/numerical-mooc/numerical-mooc*\n",
    "\n",
    "Let's step back for a moment. Suppose we have a first-order ODE $u'=f(u)$. You know that if we were to integrate this, there would be an arbitrary constant of integration. To find its value, we do need to know one point on the curve $(t, u)$. When the derivative in the ODE is with respect to time, we call that point the _initial value_ and write something like this:\n",
    "\n",
    "$$u(t=0)=u_0$$\n",
    "\n",
    "In the case of a second-order ODE, we already saw how to write it as a system of first-order ODEs, and we would need an initial value for each equation: two conditions are needed to determine our constants of integration. The same applies for higher-order ODEs: if it is of order $n$, we can write it as $n$ first-order equations, and we need $n$ known values. If we have that data, we call the problem an _initial value problem_.\n",
    "\n",
    "Remember the definition of a derivative? The derivative represents the slope of the tangent at a point of the curve $u=u(t)$, and the definition of the derivative $u'$ for a function is:\n",
    "\n",
    "$$u'(t) = \\lim_{\\Delta t\\rightarrow 0} \\frac{u(t+\\Delta t)-u(t)}{\\Delta t}$$\n",
    "\n",
    "If the step $\\Delta t$ is already very small, we can _approximate_ the derivative by dropping the limit. We can write:\n",
    "\n",
    "$$\\begin{equation}\n",
    "u(t+\\Delta t) \\approx u(t) + u'(t) \\Delta t\n",
    "\\end{equation}$$\n",
    "\n",
    "With this equation, and because we know $u'(t)=f(u)$, if we have an initial value, we can step by $\\Delta t$ and find the value of $u(t+\\Delta t)$, then we can take this value, and find $u(t+2\\Delta t)$, and so on: we say that we _step in time_, numerically finding the solution $u(t)$ for a range of values: $t_1, t_2, t_3 \\cdots$, each separated by $\\Delta t$. The numerical solution of the ODE is simply the table of values $t_i, u_i$ that results from this process.\n"
   ]
  },
  {
   "cell_type": "markdown",
   "metadata": {},
   "source": [
    "# Euler's method\n",
    "*Also known as \"Simple Euler\" or sometimes \"Simple Error\".*\n",
    "\n",
    "The approximate solution at time $t_n$ is $u_n$, and the numerical solution of the differential equation consists of computing a sequence of approximate solutions by the following formula, based on Equation (10):\n",
    "\n",
    "$$u_{n+1} = u_n + \\Delta t \\,f(u_n).$$\n",
    "\n",
    "This formula is called **Euler's method**.\n",
    "\n",
    "For the equations of the rabbits and foxes, Euler's method gives the following algorithm that we need to implement in code:\n",
    "\n",
    "\\begin{align}\n",
    "R_{n+1} & = R_n + \\Delta t \\left(k_1 R_n - k_2 R_n F_n \\right) \\\\\n",
    "F_{n+1} & = F_n + \\Delta t \\left( k_3 R_n F-n - k_4 F_n \\right).\n",
    "\\end{align}\n"
   ]
  },
  {
   "cell_type": "code",
   "execution_count": 1,
   "metadata": {
    "collapsed": true
   },
   "outputs": [],
   "source": [
    "%matplotlib inline\n",
    "import numpy as np\n",
    "from scipy.integrate import odeint\n",
    "from matplotlib import pyplot as plt"
   ]
  },
  {
   "cell_type": "code",
   "execution_count": 2,
   "metadata": {
    "collapsed": false
   },
   "outputs": [
    {
     "data": {
      "image/png": "[encoded data removed]",
      "text/plain": [
       "<matplotlib.figure.Figure at 0x1c7e4eec160>"
      ]
     },
     "metadata": {},
     "output_type": "display_data"
    }
   ],
   "source": [
    "k_1 = 0.015 #day-1\n",
    "k_2 = 0.00004 #day-1 foxes-1\n",
    "k_3 = 0.0004 #day-1 rabbit-1\n",
    "k_4 = 0.04 #day-1\n",
    "\n",
    "#Euler's Method\n",
    "\n",
    "t_f = 600 # days\n",
    "R_0 = 400 # initial number of rabbits\n",
    "F_0 = 200 # initial number of foxes\n",
    "\n",
    "#R_{n+1}=R_n+\\Delta t(k_1 R_n - k_2 R_n F_n)\n",
    "#F_{n+1}=F_n+\\Delta t(k_3 R_n F_n - k_4 F_n)\n",
    "\n",
    "Delta_t = 0.01\n",
    "\n",
    "R = np.empty(int(t_f//Delta_t))\n",
    "F = np.empty(int(t_f//Delta_t))\n",
    "t = np.linspace(0,t_f,num = int(t_f//Delta_t))\n",
    "\n",
    "R[0] = R_0\n",
    "F[0] = F_0\n",
    "\n",
    "i=0\n",
    "while t[i] < t_f:\n",
    "    R[i+1] = R[i] + Delta_t*(k_1*R[i] - k_2*R[i]*F[i])\n",
    "    F[i+1] = F[i] + Delta_t*(k_3*R[i]*F[i] - k_4*F[i])\n",
    "    i += 1\n",
    "\n",
    "\n",
    "plt.plot(t, R, label = 'Rabbits')\n",
    "plt.plot(t, F, label = 'Foxes')\n",
    "plt.legend(loc = 9)\n",
    "\n",
    "plt.show()"
   ]
  },
  {
   "cell_type": "code",
   "execution_count": 3,
   "metadata": {
    "collapsed": false
   },
   "outputs": [
    {
     "data": {
      "image/png": "[encoded data removed]",
      "text/plain": [
       "<matplotlib.figure.Figure at 0x1c7e4ec56d8>"
      ]
     },
     "metadata": {},
     "output_type": "display_data"
    }
   ],
   "source": [
    "#It's probably a good idea to set these again\n",
    "k_1 = 0.015 #day-1\n",
    "k_2 = 0.00004 #day-1 foxes-1\n",
    "k_3 = 0.0004 #day-1 rabbit-1\n",
    "k_4 = 0.04 #day-1\n",
    "\n",
    "t_f = 600 # days\n",
    "R_0 = 400 # initial number of rabbits\n",
    "F_0 = 200 # initial number of foxes\n",
    "t = np.linspace(0,t_f,num = int(t_f//Delta_t))\n",
    "\n",
    "def rabfox(p, t):\n",
    "    r, f = p\n",
    "    drdt = k_1*r-k_2*r*f\n",
    "    dfdt = k_3*r*f-k_4*f\n",
    "    dpdt = [drdt, dfdt]\n",
    "    return dpdt\n",
    "\n",
    "sol = odeint(rabfox, [R_0,F_0], t)\n",
    "plt.plot(t, sol[:, 0], 'b', label='Rabbits')\n",
    "plt.plot(t, sol[:, 1], 'g', label='Foxes')\n",
    "plt.legend(loc=9)\n",
    "\n",
    "plt.show()"
   ]
  },
  {
   "cell_type": "code",
   "execution_count": 4,
   "metadata": {
    "collapsed": false
   },
   "outputs": [
    {
     "name": "stdout",
     "output_type": "stream",
     "text": [
      "The second peak in the fox population is found at  2804  foxes when t =  427.784259475  days\n"
     ]
    }
   ],
   "source": [
    "#Finding extrema\n",
    "from scipy.signal import argrelextrema\n",
    "\n",
    "pos = np.array(argrelextrema(sol[:, 1], np.greater))[0][1] #finds index of second maximum value in array\n",
    "foxpeak2 = int(round(sol[pos,1]))\n",
    "\n",
    "print('The second peak in the fox population is found at ',foxpeak2,' foxes when t = ',t[pos],' days')"
   ]
  },
  {
   "cell_type": "code",
   "execution_count": 101,
   "metadata": {
    "collapsed": false
   },
   "outputs": [
    {
     "name": "stdout",
     "output_type": "stream",
     "text": [
      "The probability that the fox population drops to zero before  600  days is 65.0 %\n"
     ]
    }
   ],
   "source": [
    "#KMC\n",
    "#set everything again\n",
    "k_1 = 0.015 #day-1\n",
    "k_2 = 0.00004 #day-1 foxes-1\n",
    "k_3 = 0.0004 #day-1 rabbit-1\n",
    "k_4 = 0.04 #day-1\n",
    "\n",
    "t_f = 600 #number of days\n",
    "    \n",
    "FOX_DEATH_COUNT = 0 #über mëtäl värïäblë here\n",
    "Rabbits_died_this_many_times = 0\n",
    "trails = 100 #number of times this should be done, to calculate probabilty of fox population dying out\n",
    "             #the only reason why this is low for now is because this takes forever to run\n",
    "             #should ideally be higher\n",
    "\n",
    "for i in range (trails - 1):\n",
    "    R = 400 # initial number of rabbits\n",
    "    F = 200 # initial number of foxes\n",
    "\n",
    "\n",
    "    #Starts out with arrays\n",
    "    Rabbits = [R]\n",
    "    Foxes = [F]\n",
    "    time = [0]\n",
    "    \n",
    "    while time[-1] < t_f:\n",
    "        #list of all possible transition rates\n",
    "        N_k = [k_1*Rabbits[-1], k_2*Rabbits[-1]*Foxes[-1], k_3*Rabbits[-1]*Foxes[-1], k_4*Foxes[-1]] \n",
    "\n",
    "        #Calculate cumulative function\n",
    "        R_ki = np.cumsum(N_k)    \n",
    "\n",
    "        u = np.random.rand() #Get a uniform random number in (0,1]\n",
    "        uQk = R_ki[3]*u\n",
    "\n",
    "        #Find the event to carry out i by finding the i for which Rk<uQk<Rk\n",
    "        #an event occurs\n",
    "\n",
    "        if uQk < R_ki[0]:                  #A rabbit is born\n",
    "            Rabbits.append(Rabbits[-1] + 1)\n",
    "            Foxes.append(Foxes[-1])\n",
    "        elif uQk < R_ki[1]:                #Rabbit dies\n",
    "            Rabbits.append(Rabbits[-1] - 1)\n",
    "            Foxes.append(Foxes[-1])\n",
    "        elif uQk < R_ki[2]:                #A fox is born\n",
    "            Rabbits.append(Rabbits[-1])\n",
    "            Foxes.append(Foxes[-1] + 1)\n",
    "        elif uQk < R_ki[3]:                #A fox dies\n",
    "            Rabbits.append(Rabbits[-1])\n",
    "            Foxes.append(Foxes[-1] - 1)\n",
    "        else:\n",
    "            print(\"Foxes have died out, there's a mistake somehwere\")\n",
    "            break\n",
    "\n",
    "        time.append(time[-1] + (np.log(1/(1 - np.random.rand())))/(R_ki[3]))\n",
    "\n",
    "        if Rabbits[-1]==0:\n",
    "            time_rabbit_death = time[-1]\n",
    "\n",
    "        if Foxes[-1]==0:\n",
    "            FOX_DEATH_COUNT += 1\n",
    "            Rabbits.append(Rabbits[-1])\n",
    "            Foxes.append(Foxes[-1])\n",
    "            break\n",
    "\n",
    "    if Rabbits[-1]==0:\n",
    "        Rabbits_died_this_many_times += 1\n",
    "\n",
    "FOX_DEATH_STAT = 100*FOX_DEATH_COUNT/trails\n",
    "\n",
    "print(\"The probability that the fox population drops to zero before\",t_f,\"days is\",FOX_DEATH_STAT,\"%\")"
   ]
  },
  {
   "cell_type": "code",
   "execution_count": 47,
   "metadata": {
    "collapsed": false
   },
   "outputs": [
    {
     "data": {
      "text/plain": [
       "\"\\nAssignment:\\nDetermine\\nThe expected location of the second peak in foxes (eg. 425 days, 2800 foxes), on occasions that there is one (eg. a peak that's >200 days and >100 foxes)\\nThe interquartile range of the second peak in foxes (eg. 411-443 days, 2700-3120 foxes).\\nThe probability that the foxes die out before 600 days are complete\\n\""
      ]
     },
     "execution_count": 47,
     "metadata": {},
     "output_type": "execute_result"
    }
   ],
   "source": [
    "\"\"\"\n",
    "Assignment:\n",
    "Determine\n",
    "The expected location of the second peak in foxes (eg. 425 days, 2800 foxes), on occasions that there is one (eg. a peak that's >200 days and >100 foxes)\n",
    "The interquartile range of the second peak in foxes (eg. 411-443 days, 2700-3120 foxes).\n",
    "The probability that the foxes die out before 600 days are complete\n",
    "\"\"\""
   ]
  },
  {
   "cell_type": "code",
   "execution_count": 7,
   "metadata": {
    "collapsed": true
   },
   "outputs": [],
   "source": [
    "#cheating method, finding maxima by treating the curve as a noisy signal and using a function\n",
    "from scipy.signal import find_peaks_cwt\n"
   ]
  },
  {
   "cell_type": "code",
   "execution_count": 8,
   "metadata": {
    "collapsed": true
   },
   "outputs": [],
   "source": [
    "#developing own method to do so\n",
    "def find_peaks():\n",
    "    return\n"
   ]
  },
  {
   "cell_type": "code",
   "execution_count": 99,
   "metadata": {
    "collapsed": false
   },
   "outputs": [
    {
     "name": "stdout",
     "output_type": "stream",
     "text": [
      "123\n"
     ]
    }
   ],
   "source": [
    "print(i)"
   ]
  },
  {
   "cell_type": "code",
   "execution_count": null,
   "metadata": {
    "collapsed": false
   },
   "outputs": [],
   "source": []
  },
  {
   "cell_type": "code",
   "execution_count": null,
   "metadata": {
    "collapsed": true
   },
   "outputs": [],
   "source": []
  },
  {
   "cell_type": "code",
   "execution_count": null,
   "metadata": {
    "collapsed": true
   },
   "outputs": [],
   "source": []
  }
 ],
 "metadata": {
  "anaconda-cloud": {},
  "kernelspec": {
   "display_name": "Python [Root]",
   "language": "python",
   "name": "Python [Root]"
  },
  "language_info": {
   "codemirror_mode": {
    "name": "ipython",
    "version": 3
   },
   "file_extension": ".py",
   "mimetype": "text/x-python",
   "name": "python",
   "nbconvert_exporter": "python",
   "pygments_lexer": "ipython3",
   "version": "3.5.2"
  }
 },
 "nbformat": 4,
 "nbformat_minor": 1
}
